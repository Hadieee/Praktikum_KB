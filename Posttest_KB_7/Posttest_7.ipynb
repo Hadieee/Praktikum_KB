{
 "cells": [
  {
   "cell_type": "markdown",
   "metadata": {},
   "source": [
    "**Nama :** Hadie Pratama Tulili\n",
    "\n",
    "**NIM :** 2109106043\n",
    "\n",
    "***POSTTEST 7***"
   ]
  },
  {
   "cell_type": "markdown",
   "metadata": {},
   "source": [
    "### Import Libary Tensorflow"
   ]
  },
  {
   "cell_type": "code",
   "execution_count": 47,
   "metadata": {},
   "outputs": [],
   "source": [
    "import tensorflow as tf"
   ]
  },
  {
   "cell_type": "markdown",
   "metadata": {},
   "source": [
    "#### Buatlah sebuah tensor dengan shape(5,5) dengan nilai random yang disimpan dalam variable random_tensor"
   ]
  },
  {
   "cell_type": "code",
   "execution_count": 48,
   "metadata": {},
   "outputs": [
    {
     "name": "stdout",
     "output_type": "stream",
     "text": [
      "random_tensor : \n",
      " [[-0.3744468   0.61860144 -0.6192134   0.9124507   0.6950061 ]\n",
      " [-0.17951003 -0.37561563 -0.1350087   0.6676718   0.4242158 ]\n",
      " [-0.31347093 -0.27241856  1.1854254   0.34320396  1.4505777 ]\n",
      " [-0.29796734 -1.4172324   0.6069386  -1.4060947  -0.8780423 ]\n",
      " [-0.4037651   0.37089893 -1.0725715  -0.7477049  -1.1893758 ]]\n"
     ]
    }
   ],
   "source": [
    "random_tensor = tf.random.normal([5,5], seed = 1)\n",
    "print(\"random_tensor : \\n\", random_tensor.numpy())"
   ]
  },
  {
   "cell_type": "markdown",
   "metadata": {},
   "source": [
    "#### Buatlah sebuah tensor dengan shape(5,5) dari sebuah list dengan nilai bilangan prima dalam variable prime_tensor"
   ]
  },
  {
   "cell_type": "code",
   "execution_count": 49,
   "metadata": {},
   "outputs": [
    {
     "name": "stdout",
     "output_type": "stream",
     "text": [
      "prime_tensor : \n",
      " [[  2.   3.   5.   7.  11.]\n",
      " [ 13.  17.  19.  23.  29.]\n",
      " [ 31.  37.  41.  43.  47.]\n",
      " [ 53.  59.  61.  71.  73.]\n",
      " [ 79.  83.  89.  97. 101.]]\n"
     ]
    }
   ],
   "source": [
    "prime_tensor = tf.constant([[2, 3, 5, 7, 11],[13, 17, 19, 23, 29],[31, 37, 41, 43, 47],[53, 59, 61, 71, 73],[79, 83, 89, 97, 101]], shape = [5,5], dtype = tf.float32)\n",
    "print(\"prime_tensor : \\n\", prime_tensor.numpy())"
   ]
  },
  {
   "cell_type": "markdown",
   "metadata": {},
   "source": [
    "### Tampilkan dimensi dari kedua variable tersebut"
   ]
  },
  {
   "cell_type": "code",
   "execution_count": 50,
   "metadata": {},
   "outputs": [
    {
     "data": {
      "text/plain": [
       "TensorShape([5, 5])"
      ]
     },
     "execution_count": 50,
     "metadata": {},
     "output_type": "execute_result"
    }
   ],
   "source": [
    "random_tensor.get_shape()"
   ]
  },
  {
   "cell_type": "code",
   "execution_count": 60,
   "metadata": {},
   "outputs": [
    {
     "data": {
      "text/plain": [
       "TensorShape([5, 5])"
      ]
     },
     "execution_count": 60,
     "metadata": {},
     "output_type": "execute_result"
    }
   ],
   "source": [
    "prime_tensor.shape"
   ]
  },
  {
   "cell_type": "markdown",
   "metadata": {},
   "source": [
    "### Tampilkan hasil dari perhitungan aritmatika 2 variable tersebut (Gunakan minimal 5 operator)"
   ]
  },
  {
   "cell_type": "code",
   "execution_count": 59,
   "metadata": {},
   "outputs": [
    {
     "name": "stdout",
     "output_type": "stream",
     "text": [
      "1. Penjumlahan :\n",
      " tf.Tensor(\n",
      "[[ 1.6255531  3.6186013  4.3807864  7.912451  11.695006 ]\n",
      " [12.82049   16.624384  18.864992  23.667671  29.424215 ]\n",
      " [30.68653   36.72758   42.185425  43.343204  48.450577 ]\n",
      " [52.702034  57.582767  61.606937  69.5939    72.121956 ]\n",
      " [78.59624   83.370895  87.92743   96.2523    99.81062  ]], shape=(5, 5), dtype=float32)\n",
      "\n",
      "2. Pengurangan :\n",
      " tf.Tensor(\n",
      "[[  2.3744469   2.3813987   5.6192136   6.087549   10.304994 ]\n",
      " [ 13.17951    17.375616   19.135008   22.332329   28.575785 ]\n",
      " [ 31.31347    37.27242    39.814575   42.656796   45.549423 ]\n",
      " [ 53.297966   60.417233   60.393063   72.4061     73.878044 ]\n",
      " [ 79.40376    82.629105   90.07257    97.7477    102.18938  ]], shape=(5, 5), dtype=float32)\n",
      "\n",
      "3. Perkalian   :\n",
      " tf.Tensor(\n",
      "[[  -0.7488936    1.8558043   -3.096067     6.3871546    7.6450667]\n",
      " [  -2.3336303   -6.3854656   -2.565165    15.356451    12.302258 ]\n",
      " [  -9.717599   -10.079487    48.60244     14.757771    68.177155 ]\n",
      " [ -15.79227    -83.616714    37.023254   -99.83272    -64.097084 ]\n",
      " [ -31.897444    30.78461    -95.45886    -72.527374  -120.12695  ]], shape=(5, 5), dtype=float32)\n",
      "\n",
      "4. Pembagian   :\n",
      " tf.Tensor(\n",
      "[[  -5.3412127    4.8496494   -8.07476      7.6716475   15.8272   ]\n",
      " [ -72.41935    -45.259033  -140.73167     34.448063    68.361435 ]\n",
      " [ -98.892746  -135.8204      34.58674    125.28993     32.400883 ]\n",
      " [-177.87184    -41.630436   100.5044     -50.494465   -83.1395   ]\n",
      " [-195.65831    223.78064    -82.97815   -129.73032    -84.918495 ]], shape=(5, 5), dtype=float32)\n",
      "\n",
      "5. Pangkat     :\n",
      " tf.Tensor(\n",
      "[[7.7140117e-01 1.9730946e+00 3.6913770e-01 5.9035096e+00 5.2938819e+00]\n",
      " [6.3100964e-01 3.4500402e-01 6.7198122e-01 8.1131086e+00 4.1722693e+00]\n",
      " [3.4080148e-01 3.7393209e-01 8.1627213e+01 3.6359076e+00 2.6638388e+02]\n",
      " [3.0635297e-01 3.0923679e-03 1.2122315e+01 2.4943391e-03 2.3116589e-02]\n",
      " [1.7131855e-01 5.1497250e+00 8.1122220e-03 3.2694973e-02 4.1315095e-03]], shape=(5, 5), dtype=float32)\n"
     ]
    }
   ],
   "source": [
    "print(\"1. Penjumlahan :\\n\", tf.add(prime_tensor,random_tensor))\n",
    "print(\"\\n2. Pengurangan :\\n\", tf.subtract(prime_tensor,random_tensor))\n",
    "print(\"\\n3. Perkalian   :\\n\", tf.multiply(prime_tensor,random_tensor))\n",
    "print(\"\\n4. Pembagian   :\\n\", tf.divide(prime_tensor,random_tensor))\n",
    "print(\"\\n5. Pangkat     :\\n\", tf.pow(prime_tensor,random_tensor))"
   ]
  },
  {
   "cell_type": "markdown",
   "metadata": {},
   "source": [
    "### Tampilkan nilai maksimal dan minimal dari variable random_tensor"
   ]
  },
  {
   "cell_type": "code",
   "execution_count": 53,
   "metadata": {},
   "outputs": [
    {
     "name": "stdout",
     "output_type": "stream",
     "text": [
      "Nilai maksimal baris dari random_tensor :  [1 0 2 0 2]\n",
      "Nilai maksimal kolom dari random_tensor :  [3 3 4 2 1]\n"
     ]
    }
   ],
   "source": [
    "print (\"Nilai maksimal baris dari random_tensor : \", tf.argmax(random_tensor, axis=0).numpy())\n",
    "print (\"Nilai maksimal kolom dari random_tensor : \", tf.argmax(random_tensor, axis=1).numpy())"
   ]
  },
  {
   "cell_type": "code",
   "execution_count": 54,
   "metadata": {},
   "outputs": [
    {
     "name": "stdout",
     "output_type": "stream",
     "text": [
      "Nilai minimal baris dari random_tensor :  [4 3 4 3 4]\n",
      "Nilai minimal kolom dari random_tensor :  [2 1 0 1 4]\n"
     ]
    }
   ],
   "source": [
    "print (\"Nilai minimal baris dari random_tensor : \", tf.argmin(random_tensor, axis=0).numpy())\n",
    "print (\"Nilai minimal kolom dari random_tensor : \", tf.argmin(random_tensor, axis=1).numpy())"
   ]
  },
  {
   "cell_type": "markdown",
   "metadata": {},
   "source": [
    "### Tampilkan hasil dari penggabungan variable random_tensor dengan prime_tensor (concatenation)"
   ]
  },
  {
   "cell_type": "code",
   "execution_count": 55,
   "metadata": {},
   "outputs": [
    {
     "name": "stdout",
     "output_type": "stream",
     "text": [
      "Penggabungan baris dari random_tensor dan prime_tensor : \n",
      " [[ -0.3744468    0.61860144  -0.6192134    0.9124507    0.6950061 ]\n",
      " [ -0.17951003  -0.37561563  -0.1350087    0.6676718    0.4242158 ]\n",
      " [ -0.31347093  -0.27241856   1.1854254    0.34320396   1.4505777 ]\n",
      " [ -0.29796734  -1.4172324    0.6069386   -1.4060947   -0.8780423 ]\n",
      " [ -0.4037651    0.37089893  -1.0725715   -0.7477049   -1.1893758 ]\n",
      " [  2.           3.           5.           7.          11.        ]\n",
      " [ 13.          17.          19.          23.          29.        ]\n",
      " [ 31.          37.          41.          43.          47.        ]\n",
      " [ 53.          59.          61.          71.          73.        ]\n",
      " [ 79.          83.          89.          97.         101.        ]]\n"
     ]
    }
   ],
   "source": [
    "print(\"Penggabungan baris dari random_tensor dan prime_tensor : \\n\", tf.concat([random_tensor,prime_tensor], axis=0).numpy())"
   ]
  },
  {
   "cell_type": "code",
   "execution_count": 56,
   "metadata": {},
   "outputs": [
    {
     "name": "stdout",
     "output_type": "stream",
     "text": [
      "Penggabungan kolom dari random_tensor dan prime_tensor : \n",
      " [[ -0.3744468    0.61860144  -0.6192134    0.9124507    0.6950061\n",
      "    2.           3.           5.           7.          11.        ]\n",
      " [ -0.17951003  -0.37561563  -0.1350087    0.6676718    0.4242158\n",
      "   13.          17.          19.          23.          29.        ]\n",
      " [ -0.31347093  -0.27241856   1.1854254    0.34320396   1.4505777\n",
      "   31.          37.          41.          43.          47.        ]\n",
      " [ -0.29796734  -1.4172324    0.6069386   -1.4060947   -0.8780423\n",
      "   53.          59.          61.          71.          73.        ]\n",
      " [ -0.4037651    0.37089893  -1.0725715   -0.7477049   -1.1893758\n",
      "   79.          83.          89.          97.         101.        ]]\n"
     ]
    }
   ],
   "source": [
    "print(\"Penggabungan kolom dari random_tensor dan prime_tensor : \\n\", tf.concat([random_tensor,prime_tensor], axis=1).numpy())"
   ]
  },
  {
   "cell_type": "markdown",
   "metadata": {},
   "source": [
    "### Tampilkan hasil sorting dari kedua variable di atas. (descending)"
   ]
  },
  {
   "cell_type": "markdown",
   "metadata": {},
   "source": [
    "#### random_tensor"
   ]
  },
  {
   "cell_type": "code",
   "execution_count": 57,
   "metadata": {},
   "outputs": [
    {
     "name": "stdout",
     "output_type": "stream",
     "text": [
      "Sorting random_tensor : \n",
      " [[ 0.9124507   0.6950061   0.61860144 -0.3744468  -0.6192134 ]\n",
      " [ 0.6676718   0.4242158  -0.1350087  -0.17951003 -0.37561563]\n",
      " [ 1.4505777   1.1854254   0.34320396 -0.27241856 -0.31347093]\n",
      " [ 0.6069386  -0.29796734 -0.8780423  -1.4060947  -1.4172324 ]\n",
      " [ 0.37089893 -0.4037651  -0.7477049  -1.0725715  -1.1893758 ]]\n"
     ]
    }
   ],
   "source": [
    "sort_random_tensor = tf.sort(random_tensor, direction=\"DESCENDING\")\n",
    "print(\"Sorting random_tensor : \\n\", sort_random_tensor.numpy())"
   ]
  },
  {
   "cell_type": "markdown",
   "metadata": {},
   "source": [
    "#### prime_tensor"
   ]
  },
  {
   "cell_type": "code",
   "execution_count": 58,
   "metadata": {},
   "outputs": [
    {
     "name": "stdout",
     "output_type": "stream",
     "text": [
      "Sorting prime_tensor : \n",
      " [[4 3 2 1 0]\n",
      " [4 3 2 1 0]\n",
      " [4 3 2 1 0]\n",
      " [4 3 2 1 0]\n",
      " [4 3 2 1 0]]\n"
     ]
    }
   ],
   "source": [
    "sort_prime_tensor1 = tf.argsort(prime_tensor, direction=\"DESCENDING\")\n",
    "print(\"Sorting prime_tensor : \\n\", sort_prime_tensor1.numpy())"
   ]
  }
 ],
 "metadata": {
  "kernelspec": {
   "display_name": "Python 3.10.7 64-bit",
   "language": "python",
   "name": "python3"
  },
  "language_info": {
   "codemirror_mode": {
    "name": "ipython",
    "version": 3
   },
   "file_extension": ".py",
   "mimetype": "text/x-python",
   "name": "python",
   "nbconvert_exporter": "python",
   "pygments_lexer": "ipython3",
   "version": "3.10.7"
  },
  "orig_nbformat": 4,
  "vscode": {
   "interpreter": {
    "hash": "f2ccb58c476f33ba3e3aee7ac07234ef6b8217ef24ad64d2a7d4fed1a57c1cd2"
   }
  }
 },
 "nbformat": 4,
 "nbformat_minor": 2
}
